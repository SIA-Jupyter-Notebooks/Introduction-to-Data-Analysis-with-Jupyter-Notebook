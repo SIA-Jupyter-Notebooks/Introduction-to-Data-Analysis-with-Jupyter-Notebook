{
 "cells": [
  {
   "cell_type": "markdown",
   "id": "8c09ecc2",
   "metadata": {},
   "source": [
    "# 1. Basic Statistical Concepts:"
   ]
  },
  {
   "cell_type": "markdown",
   "id": "140dd350",
   "metadata": {},
   "source": [
    "In this section, we'll introduce some basic statistical concepts using Python and Jupyter Notebook."
   ]
  },
  {
   "cell_type": "code",
   "execution_count": null,
   "id": "c2a2073d",
   "metadata": {},
   "outputs": [],
   "source": [
    "!pip install scipy"
   ]
  },
  {
   "cell_type": "code",
   "execution_count": null,
   "id": "dabe4091",
   "metadata": {},
   "outputs": [],
   "source": [
    "# Module 4: Data Analysis and Statistics\n",
    "\n",
    "# 1. Basic Statistical Concepts\n",
    "\n",
    "# Statistical concepts are fundamental in data analysis. Let's start with some basics.\n",
    "\n",
    "# Import necessary libraries\n",
    "\n",
    "import numpy as np\n",
    "import scipy.stats as stats\n",
    "\n",
    "# Generate a sample dataset\n",
    "data = np.random.normal(loc=50, scale=10, size=100)\n",
    "\n",
    "# Calculate the mean (average)\n",
    "mean = np.mean(data)\n",
    "print(\"Mean:\", mean)\n",
    "\n",
    "# Calculate the median (middle value)\n",
    "median = np.median(data)\n",
    "print(\"Median:\", median)\n",
    "\n",
    "# Calculate the standard deviation\n",
    "std_dev = np.std(data)\n",
    "print(\"Standard Deviation:\", std_dev)\n",
    "\n",
    "# These are fundamental statistics that help us understand the central tendency and variability of data.\n"
   ]
  },
  {
   "cell_type": "markdown",
   "id": "0d56bf1c",
   "metadata": {},
   "source": [
    "## 2. Descriptive Statistics:\n",
    "\n",
    "In this section, we'll explore descriptive statistics, such as measures of central tendency and spread."
   ]
  },
  {
   "cell_type": "code",
   "execution_count": null,
   "id": "46b6452e",
   "metadata": {},
   "outputs": [],
   "source": [
    "# 2. Descriptive Statistics\n",
    "\n",
    "# Descriptive statistics summarize and describe the main features of a dataset.\n",
    "\n",
    "# Generate another sample dataset\n",
    "data2 = np.random.normal(loc=40, scale=5, size=100)\n",
    "\n",
    "# Calculate the variance\n",
    "variance = np.var(data2)\n",
    "print(\"Variance:\", variance)\n",
    "\n",
    "# Calculate the range\n",
    "data_range = np.ptp(data2)\n",
    "print(\"Range:\", data_range)\n",
    "\n",
    "# Calculate the interquartile range (IQR)\n",
    "iqr = np.percentile(data2, 75) - np.percentile(data2, 25)\n",
    "print(\"Interquartile Range (IQR):\", iqr)\n",
    "\n",
    "# Use the describe() function for a summary of descriptive statistics\n",
    "stats_summary = stats.describe(data2)\n",
    "print(\"\\nSummary Statistics:\")\n",
    "print(stats_summary)\n",
    "\n",
    "# Descriptive statistics provide insights into the distribution and spread of data.\n"
   ]
  },
  {
   "cell_type": "markdown",
   "id": "5e83b583",
   "metadata": {},
   "source": [
    "## 3. Hypothesis Testing and Statistical Inference:\n",
    "\n",
    "In this section, we'll perform a hypothesis test using Python to make statistical inferences."
   ]
  },
  {
   "cell_type": "code",
   "execution_count": null,
   "id": "f1dc6096",
   "metadata": {},
   "outputs": [],
   "source": [
    "# 3. Hypothesis Testing and Statistical Inference\n",
    "\n",
    "# Hypothesis testing helps us make inferences about a population based on a sample.\n",
    "\n",
    "# Generate two samples for hypothesis testing\n",
    "sample1 = np.random.normal(loc=50, scale=10, size=30)\n",
    "sample2 = np.random.normal(loc=55, scale=10, size=30)\n",
    "\n",
    "# Perform a two-sample t-test to compare means\n",
    "t_stat, p_value = stats.ttest_ind(sample1, sample2)\n",
    "print(\"T-statistic:\", t_stat)\n",
    "print(\"P-value:\", p_value)\n",
    "\n",
    "# Interpret the results\n",
    "alpha = 0.05  # Significance level\n",
    "if p_value < alpha:\n",
    "    print(\"Reject the null hypothesis. There is a significant difference between the two samples.\")\n",
    "else:\n",
    "    print(\"Fail to reject the null hypothesis. There is no significant difference between the two samples.\")\n",
    "\n",
    "# Hypothesis testing allows us to draw conclusions about populations from sample data.\n"
   ]
  }
 ],
 "metadata": {
  "kernelspec": {
   "display_name": "Python 3 (ipykernel)",
   "language": "python",
   "name": "python3"
  },
  "language_info": {
   "codemirror_mode": {
    "name": "ipython",
    "version": 3
   },
   "file_extension": ".py",
   "mimetype": "text/x-python",
   "name": "python",
   "nbconvert_exporter": "python",
   "pygments_lexer": "ipython3",
   "version": "3.9.4"
  }
 },
 "nbformat": 4,
 "nbformat_minor": 5
}
