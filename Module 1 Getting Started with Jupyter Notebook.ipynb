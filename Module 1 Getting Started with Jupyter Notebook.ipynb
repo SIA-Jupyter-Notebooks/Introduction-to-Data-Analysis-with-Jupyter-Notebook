{
 "cells": [
  {
   "cell_type": "markdown",
   "id": "5bdf34a3",
   "metadata": {},
   "source": [
    "# Module 1: Getting Started with Jupyter Notebook"
   ]
  },
  {
   "cell_type": "code",
   "execution_count": 2,
   "id": "4a8c4703",
   "metadata": {},
   "outputs": [
    {
     "name": "stdout",
     "output_type": "stream",
     "text": [
      "Hello, Jupyter!\n"
     ]
    }
   ],
   "source": [
    "\n",
    "\n",
    "# Introduction to Jupyter Notebook\n",
    "# Jupyter Notebook is an open-source web application that allows you to create and share documents containing live code, equations, visualizations, and narrative text.\n",
    "\n",
    "# Installing Jupyter Notebook\n",
    "# You can install Jupyter Notebook using pip, a Python package manager, if you haven't already.\n",
    "# Open your command prompt or terminal and run the following command:\n",
    "# !pip install notebook\n",
    "\n",
    "# Once installed, you can launch Jupyter Notebook by running the following command in your terminal:\n",
    "# jupyter notebook\n",
    "\n",
    "# This will open a new tab in your web browser with the Jupyter Notebook interface.\n",
    "\n",
    "# Creating your first Jupyter Notebook\n",
    "# 1. In the Jupyter Notebook interface, click the \"New\" button and select \"Python 3\" to create a new Python notebook.\n",
    "# 2. You'll see an empty code cell. You can start typing Python code in this cell.\n",
    "# 3. To run the code, press Shift + Enter or click the \"Run\" button in the toolbar.\n",
    "\n",
    "# Let's create a simple code cell to print \"Hello, Jupyter!\" to get started.\n",
    "\n",
    "print(\"Hello, Jupyter!\")\n"
   ]
  },
  {
   "cell_type": "code",
   "execution_count": null,
   "id": "de93b537",
   "metadata": {},
   "outputs": [],
   "source": []
  }
 ],
 "metadata": {
  "kernelspec": {
   "display_name": "Python 3 (ipykernel)",
   "language": "python",
   "name": "python3"
  },
  "language_info": {
   "codemirror_mode": {
    "name": "ipython",
    "version": 3
   },
   "file_extension": ".py",
   "mimetype": "text/x-python",
   "name": "python",
   "nbconvert_exporter": "python",
   "pygments_lexer": "ipython3",
   "version": "3.9.4"
  }
 },
 "nbformat": 4,
 "nbformat_minor": 5
}
