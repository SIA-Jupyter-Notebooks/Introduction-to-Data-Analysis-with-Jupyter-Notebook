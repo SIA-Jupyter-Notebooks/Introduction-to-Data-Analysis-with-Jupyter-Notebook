{
 "cells": [
  {
   "cell_type": "markdown",
   "id": "155ce18c",
   "metadata": {},
   "source": [
    "# 1. Introduction to Python Programming:"
   ]
  },
  {
   "cell_type": "code",
   "execution_count": 2,
   "id": "188891e2",
   "metadata": {},
   "outputs": [
    {
     "name": "stdout",
     "output_type": "stream",
     "text": [
      "Hello, Python!\n",
      "Hello, John!\n"
     ]
    }
   ],
   "source": [
    "# 1. Introduction to Python Programming\n",
    "\n",
    "# Python is a versatile and beginner-friendly programming language widely used in data analysis, among other fields.\n",
    "# Let's start with some basic Python concepts.\n",
    "\n",
    "# Printing Hello, Python!\n",
    "print(\"Hello, Python!\")\n",
    "\n",
    "# Python uses indentation to define code blocks. For example, let's create a simple function:\n",
    "def greet(name):\n",
    "    print(\"Hello, \" + name + \"!\")\n",
    "\n",
    "# Call the function\n",
    "greet(\"John\")\n",
    "\n",
    "# Python has a large standard library and supports a wide range of data types, operations, and functions.\n",
    "# Now, let's move on to variables and data types.\n",
    "\n"
   ]
  },
  {
   "cell_type": "markdown",
   "id": "5dde84ac",
   "metadata": {},
   "source": [
    "# 2. Variables, Data Types, and Basic Operations:"
   ]
  },
  {
   "cell_type": "raw",
   "id": "12190be3",
   "metadata": {},
   "source": [
    "# 2. Variables, Data Types, and Basic Operations\n",
    "\n",
    "# Variables allow us to store data. Python has various data types, including:\n",
    "# - int (integer)\n",
    "# - float (floating-point number)\n",
    "# - str (string)\n",
    "# - bool (boolean)\n"
   ]
  },
  {
   "cell_type": "code",
   "execution_count": 1,
   "id": "7acfd1d8",
   "metadata": {},
   "outputs": [
    {
     "name": "stdout",
     "output_type": "stream",
     "text": [
      "50\n",
      "Alice Smith\n",
      "apple\n",
      "['apple', 'banana', 'cherry', 'orange']\n"
     ]
    }
   ],
   "source": [
    "# Assign values to variables\n",
    "age = 25\n",
    "height = 5.11\n",
    "name = \"Alice\"\n",
    "is_student = True\n",
    "\n",
    "# You can perform basic operations on variables\n",
    "result = age * 2\n",
    "print(result)\n",
    "\n",
    "# Concatenate strings\n",
    "full_name = name + \" Smith\"\n",
    "print(full_name)\n",
    "\n",
    "# Python also supports lists, which are ordered collections of items.\n",
    "fruits = [\"apple\", \"banana\", \"cherry\"]\n",
    "\n",
    "# Access items in a list by index\n",
    "print(fruits[0])\n",
    "\n",
    "# Add an item to the list\n",
    "fruits.append(\"orange\")\n",
    "print(fruits)\n",
    "\n",
    "# Now, let's explore Python libraries commonly used in data analysis.\n"
   ]
  },
  {
   "cell_type": "markdown",
   "id": "9058fd53",
   "metadata": {},
   "source": [
    "# 3. Python Libraries for Data Analysis (NumPy and Pandas):"
   ]
  },
  {
   "cell_type": "markdown",
   "id": "44ee9eff",
   "metadata": {},
   "source": [
    "Data analysis often requires specialized libraries. Two popular libraries are NumPy and Pandas."
   ]
  },
  {
   "cell_type": "code",
   "execution_count": 3,
   "id": "635d0349",
   "metadata": {},
   "outputs": [
    {
     "name": "stdout",
     "output_type": "stream",
     "text": [
      "Mean: 3.0\n",
      "      Name  Age\n",
      "0    Alice   25\n",
      "1      Bob   30\n",
      "2  Charlie   35\n"
     ]
    }
   ],
   "source": [
    "# NumPy (Numerical Python) provides support for working with arrays and matrices of data.\n",
    "import numpy as np\n",
    "\n",
    "# Create a NumPy array\n",
    "data = np.array([1, 2, 3, 4, 5])\n",
    "\n",
    "# Perform operations on NumPy arrays\n",
    "mean = np.mean(data)\n",
    "print(\"Mean:\", mean)\n",
    "\n",
    "# Pandas is a library for data manipulation and analysis. It uses DataFrame objects.\n",
    "import pandas as pd\n",
    "\n",
    "# Create a DataFrame\n",
    "data_dict = {'Name': ['Alice', 'Bob', 'Charlie'],\n",
    "             'Age': [25, 30, 35]}\n",
    "df = pd.DataFrame(data_dict)\n",
    "\n",
    "# Display the DataFrame\n",
    "print(df)\n",
    "\n",
    "# These libraries are essential tools for data analysis in Python.\n",
    "\n",
    "# Feel free to explore more Python basics and these libraries in greater detail to enhance your data analysis skills.\n",
    "\n"
   ]
  },
  {
   "cell_type": "code",
   "execution_count": null,
   "id": "57eec4e6",
   "metadata": {},
   "outputs": [],
   "source": []
  }
 ],
 "metadata": {
  "kernelspec": {
   "display_name": "Python 3 (ipykernel)",
   "language": "python",
   "name": "python3"
  },
  "language_info": {
   "codemirror_mode": {
    "name": "ipython",
    "version": 3
   },
   "file_extension": ".py",
   "mimetype": "text/x-python",
   "name": "python",
   "nbconvert_exporter": "python",
   "pygments_lexer": "ipython3",
   "version": "3.9.4"
  }
 },
 "nbformat": 4,
 "nbformat_minor": 5
}
